{
 "cells": [
  {
   "cell_type": "code",
   "execution_count": 4,
   "id": "0b422d21",
   "metadata": {},
   "outputs": [
    {
     "name": "stdout",
     "output_type": "stream",
     "text": [
      "Min Age = 19 Max age = 26\n",
      "Median =  24.0\n",
      "Average =  22.8\n",
      "Range =  7\n"
     ]
    }
   ],
   "source": [
    "#imports all the functions in the staticsitics module like mean,median\n",
    "import statistics\n",
    "\n",
    "# create a list ages\n",
    "ages = [19,22, 19, 24, 20, 25, 26, 24, 25, 24]\n",
    "\n",
    "# Sorting list of Integers\n",
    "ages.sort()\n",
    "\n",
    "#prints the min,max ages \n",
    "print(\"Min Age =\",ages[0],\"Max age =\",ages[-1])\n",
    "\n",
    "#prints the median using statistics module\n",
    "print(\"Median = \",statistics.median(ages))\n",
    "\n",
    "#prints the avergae age\n",
    "print(\"Average = \",sum(ages)/len(ages))\n",
    "\n",
    "#prints the range of ages\n",
    "print(\"Range = \",max(ages)-min(ages))"
   ]
  },
  {
   "cell_type": "code",
   "execution_count": 8,
   "id": "8f1829f2",
   "metadata": {},
   "outputs": [
    {
     "name": "stdout",
     "output_type": "stream",
     "text": [
      "Lenght of student = 9\n",
      "['Python', 'ML', 'Java'] <class 'list'>\n",
      "dict_keys(['first_name', 'last_name', 'gender', 'age', 'marital_status', 'skills', 'country', 'city', 'address'])\n",
      "dict_values(['Jaideep', 'Mogalapu', 'male', 26, 'Unmarried', ['Python', 'ML', 'Java', 'Salesforce', 'Statistics'], 'India', 'Rajahmundry', 'Kambalacheruvu'])\n"
     ]
    }
   ],
   "source": [
    "#create an empty dictionary\n",
    "dog = {}\n",
    "\n",
    "#Add name, color, breed, legs, age to the dog dictionary\n",
    "dog = {\"name\":\"Cressy\", \"color\":\"Brown\", \"breed\":\"Rottwiller\", \"legs\":4, \"age\":2}\n",
    "\n",
    "# Create a student dictionary\n",
    "student = { \"first_name\":\"Jaideep\", \"last_name\":\"Mogalapu\", \"gender\":\"male\", \"age\":26, \"marital_status\":\"Unmarried\", \"skills\":[\"Python\",\"ML\",\"Java\"], \"country\":\"India\", \"city\":\"Rajahmundry\", \"address\":\"Kambalacheruvu\"}\n",
    "\n",
    "# Print the length of student dictionary\n",
    "print(\"Lenght of student =\",len(student))\n",
    "\n",
    "# print the value of skills and check if is datatye is list \n",
    "print(student[\"skills\"],type(student[\"skills\"]))\n",
    "\n",
    "# add a skill to the student \n",
    "student[\"skills\"].append(\"Salesforce\")\n",
    "student[\"skills\"].append(\"Statistics\")\n",
    "\n",
    "# print the keys of student dictionary\n",
    "print(student.keys())\n",
    "\n",
    "#print the values of student dictionary\n",
    "print(student.values())"
   ]
  },
  {
   "cell_type": "code",
   "execution_count": 20,
   "id": "0b2050a9",
   "metadata": {},
   "outputs": [
    {
     "name": "stdout",
     "output_type": "stream",
     "text": [
      "Num of siblings I have: 6\n",
      "My family members : ('John', 'Yaseen', 'Sravan', 'Shaila', 'Sumeir', 'Monika', 'Prasanna', 'Sudarshan')\n"
     ]
    }
   ],
   "source": [
    "# Create a tuple containing names of your sisters and your brothers\n",
    "brothers = (\"John\",\"Yaseen\",\"Sravan\")\n",
    "sisters = (\"Shaila\",\"Sumeir\",\"Monika\")\n",
    "\n",
    "# Joined brothers and sisters tuples and assigned it to siblings\n",
    "siblings = brothers+sisters\n",
    "\n",
    "#print the number of siblings I have \n",
    "print(\"Num of siblings I have:\",len(siblings))\n",
    "parents = (\"Prasanna\",\"Sudarshan\")\n",
    "\n",
    "# add parents names to siblings and assign to family members\n",
    "siblings += parents\n",
    "family_members = siblings\n",
    "\n",
    "# print family members\n",
    "print(\"My family members :\",family_members)"
   ]
  },
  {
   "cell_type": "code",
   "execution_count": 25,
   "id": "23182ff5",
   "metadata": {},
   "outputs": [
    {
     "name": "stdout",
     "output_type": "stream",
     "text": [
      "Length of it_companies = 7\n",
      "Join A and B : {19, 20, 22, 24, 25, 26, 27, 28}\n",
      "Intersection of A and B : {19, 20, 22, 24, 25, 26}\n",
      "Is A subset of B : True\n",
      "Are A and B disjoint sets : False\n",
      "Symmetric difference between A and B : {27, 28}\n",
      "Is length of list is greater than set : True\n"
     ]
    }
   ],
   "source": [
    "# create a set it_companies,A,B\n",
    "it_companies = {'Facebook', 'Google', 'Microsoft', 'Apple', 'IBM', 'Oracle', 'Amazon'}\n",
    "A = {19, 22, 24, 20, 25, 26}\n",
    "B = {19, 22, 20, 25, 26, 24, 28, 27}\n",
    "# create list age\n",
    "age = [22, 19, 24, 25, 26, 24, 25, 24]\n",
    "\n",
    "# Print the length of it_companies\n",
    "print(\"Length of it_companies =\",len(it_companies))\n",
    "\n",
    "# add twittee to the set it_companies\n",
    "it_companies.add(\"Twitter\")\n",
    "\n",
    "#Insert multiple IT companies at once to the set it_companies\n",
    "it_companies.update({\"TCS\",\"Accenture\"})\n",
    "\n",
    "#Remove \"Accenture\" from the set it_companies\n",
    "it_companies.remove(\"Accenture\")\n",
    "\n",
    "#Join A ,B\n",
    "print(\"Join A and B :\",A|B)\n",
    "\n",
    "#Intersection of A,B\n",
    "print(\"Intersection of A and B :\",A.intersection(B))\n",
    "\n",
    "# Print true if A is subset of B or else false\n",
    "print(\"Is A subset of B :\",A.issubset(B))\n",
    "\n",
    "#isdisjoint returns true when their intersection is null. \n",
    "print(\"Are A and B disjoint sets :\",A.isdisjoint(B))\n",
    "\n",
    "# symmetric_difference returns all items to result variable except the items on intersection\n",
    "print(\"Symmetric difference between A and B :\",A.symmetric_difference(B))\n",
    "\n",
    "# delete the set A,B\n",
    "del A,B\n",
    "\n",
    "# Convert the ages to a set and compare the length of the list and the set.\n",
    "age_set = set(age)\n",
    "print(\"Is length of list is greater than set :\",len(age_set)<len(age))\n",
    "\n",
    "#print(it_companies)"
   ]
  },
  {
   "cell_type": "code",
   "execution_count": 26,
   "id": "96defe49",
   "metadata": {},
   "outputs": [
    {
     "name": "stdout",
     "output_type": "stream",
     "text": [
      "radius: 30\n",
      "Area of circle : 2827.4333882308138\n",
      "Circumference of circle : 188.49555921538757\n"
     ]
    }
   ],
   "source": [
    "#imports all the functions in the math\n",
    "import math\n",
    "\n",
    "#  Take radius as user input\n",
    "radius = int(input(\"radius: \"))\n",
    "\n",
    "#Calculate the area of a circle and \n",
    "#assign the value to a variable name of _area_of_circle_\n",
    "#print the area of circle\n",
    "_area_of_circle_ = math.pi*radius*radius\n",
    "print(\"Area of circle :\",_area_of_circle_)\n",
    "\n",
    "#Calculate the circumference of a circle \n",
    "#and assign the value to a variable name of _circum_of_circle_\n",
    "# print the circumference of circle\n",
    "_circum_of_circle_ = 2*math.pi*radius\n",
    "print(\"Circumference of circle :\",_circum_of_circle_)"
   ]
  },
  {
   "cell_type": "code",
   "execution_count": 32,
   "id": "3e96ac7b",
   "metadata": {},
   "outputs": [
    {
     "name": "stdout",
     "output_type": "stream",
     "text": [
      "{'teach', 'teacher', 'am', 'a', 'people', 'inspire', 'I', 'love', 'and', 'to'}\n",
      "Number of Unique words used : 10\n"
     ]
    }
   ],
   "source": [
    "#given string\n",
    "s =\"I am a teacher and I love to inspire and teach people\"\n",
    "\n",
    "#The split() method splits a string into a list.\n",
    "l=set(s.split(\" \"))\n",
    "\n",
    "# print the unique word and number of the unique words\n",
    "print(l)\n",
    "print(\"Number of Unique words used :\",len(l))"
   ]
  },
  {
   "cell_type": "code",
   "execution_count": 33,
   "id": "8276ffaf",
   "metadata": {},
   "outputs": [
    {
     "name": "stdout",
     "output_type": "stream",
     "text": [
      "Name\t\tAge\tCountry\t\tCity\n",
      "Asabeneh\t250\tFinland\t\tHelsinki\n"
     ]
    }
   ],
   "source": [
    "# Use tab sequence\n",
    "print(\"Name\\t\\tAge\\tCountry\\t\\tCity\")\n",
    "print(\"Asabeneh\\t250\\tFinland\\t\\tHelsinki\")"
   ]
  },
  {
   "cell_type": "code",
   "execution_count": null,
   "id": "5464a4fa",
   "metadata": {},
   "outputs": [],
   "source": [
    "radius = 10\n",
    "\n",
    "# Using the string formatting method\n",
    "\n",
    "print(\"Radius = {}\".format(radius))\n",
    "\n",
    "print(\"area = {} * radius ** 2\".format(3.14))\n",
    "\n",
    "\n",
    "print(\"The area of a circle with radius {} is {} meters square.\".format(radius,int(3.14* 10 **2)))"
   ]
  },
  {
   "cell_type": "code",
   "execution_count": 42,
   "id": "229987e5",
   "metadata": {},
   "outputs": [
    {
     "name": "stdout",
     "output_type": "stream",
     "text": [
      "4\n",
      "150 155 145 148\n",
      "[68.04, 70.31, 65.77, 67.13]\n"
     ]
    }
   ],
   "source": [
    "#define a functiont to return kg \n",
    "def lbToKg(lb):\n",
    "    return round(lb*0.45359237,2)\n",
    "\n",
    "# read the number of student and their weight in lb's as input\n",
    "num_of_students = int(input())\n",
    "l  = list(map(int, input().split()))\n",
    "\n",
    "# creat a list of kg\n",
    "kg=list()\n",
    "\n",
    "# loop over the studnets weight in lb and call the function \n",
    "# for every student weight in lb and the returned o/p is\n",
    "# appeneded to the kg list \n",
    "for i in range(num_of_students):\n",
    "    kg.append(lbToKg(l[i]))\n",
    "# print the kg list\n",
    "print(kg)"
   ]
  },
  {
   "cell_type": "code",
   "execution_count": null,
   "id": "877a01a8",
   "metadata": {},
   "outputs": [],
   "source": []
  }
 ],
 "metadata": {
  "kernelspec": {
   "display_name": "Python 3 (ipykernel)",
   "language": "python",
   "name": "python3"
  },
  "language_info": {
   "codemirror_mode": {
    "name": "ipython",
    "version": 3
   },
   "file_extension": ".py",
   "mimetype": "text/x-python",
   "name": "python",
   "nbconvert_exporter": "python",
   "pygments_lexer": "ipython3",
   "version": "3.9.13"
  }
 },
 "nbformat": 4,
 "nbformat_minor": 5
}
